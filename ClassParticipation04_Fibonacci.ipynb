{
 "cells": [
  {
   "cell_type": "markdown",
   "metadata": {},
   "source": [
    "<h1 style = \"text-align:center; font-size: 36px\"> Programación Concurrente y Distribuida </h1>\n",
    "<a href=\"https://github.com/MiguelRamosLop\">\n",
    "<img src=\"FotoMiguel.JPG\" title = \"Miguel Ramos López 21937215\" alt=\"Miguel Ramos López\" width=\"100\" height=\"100\" style=\"float:left;vertical-alig:middle\">\n",
    "<img src=\"uem.png\" title= \"M23\"alt=\"UE\" width=\"105\" height=\"105\" style=\"float:right;vertical-alig:middle\">"
   ]
  },
  {
   "cell_type": "markdown",
   "metadata": {},
   "source": [
    "## *CLASS PARTICIPATION 04* - Día 15_2_21\n",
    "\n",
    "Ademas se pueden consultar los demás repositorios en mi perfil de GitHub [MiguelRamosLop-Perfil GitHub](https://github.com/MiguelRamosLop?tab=repositories)\n",
    "\n",
    "### **Enunciado**\n",
    "Realizar la serie de fibonacci de un numero de forma recursiva e iterativa.\n",
    "\n",
    "##### Objetivo: \n",
    "Conocer las diferencias entre iteratividad y recursividad: ¿Qué es más óptimo?\n"
   ]
  },
  {
   "cell_type": "markdown",
   "metadata": {},
   "source": [
    "### **Resolución**"
   ]
  },
  {
   "cell_type": "markdown",
   "metadata": {},
   "source": [
    "Lo resolvemos de forma recursiva"
   ]
  },
  {
   "cell_type": "code",
   "execution_count": 37,
   "metadata": {},
   "outputs": [],
   "source": [
    "def fibonacciRecursivo(numero):\n",
    "    if numero<2:\n",
    "        return numero\n",
    "    else:\n",
    "        return fibo(numero-1)+fibo(numero-2)"
   ]
  },
  {
   "cell_type": "code",
   "execution_count": 38,
   "metadata": {},
   "outputs": [],
   "source": [
    "def fibonacciIterativo(n):\n",
    "    a = 1\n",
    "    b = 0\n",
    "    for i in range(n):\n",
    "        a, b = b, a + b\n",
    "    return b"
   ]
  },
  {
   "cell_type": "code",
   "execution_count": 39,
   "metadata": {},
   "outputs": [
    {
     "name": "stdin",
     "output_type": "stream",
     "text": [
      "Ingrese un numero: 12\n"
     ]
    },
    {
     "name": "stdout",
     "output_type": "stream",
     "text": [
      "144\n",
      "144\n"
     ]
    }
   ],
   "source": [
    "if __name__=='__main__':\n",
    "    numero = int(input('Ingrese un numero:'))\n",
    "    print(fibonacciRecursivo(numero))\n",
    "    print(fibonacciIterativo(numero))"
   ]
  },
  {
   "cell_type": "markdown",
   "metadata": {},
   "source": [
    "Lo resolvemos de forma iterativa"
   ]
  },
  {
   "cell_type": "markdown",
   "metadata": {},
   "source": [
    "##### Análisis del resultado:\n",
    "¿Iterativo o recursivo?\n",
    "En este caso para resolver Fibonacci, tenemos muchas formas de resolverlo. Nuestra intención es que sea paralelizable, con recursividad es imposible que sea paralelizable. \n",
    "\n",
    "En cuanto a la forma recursiva, vemos que se ejecuta muchas veces y tarda mucho en ejecutar imprimendo unos procesos muy largos. Este algoritmo podría ser aplicado de forma iterativa usando un único hilo que además de neustro cores podremos obtener un mejor resultado. "
   ]
  },
  {
   "cell_type": "markdown",
   "metadata": {},
   "source": [
    "<img src=\"Fib.JPG\">"
   ]
  }
 ],
 "metadata": {
  "kernelspec": {
   "display_name": "Python 3",
   "language": "python",
   "name": "python3"
  },
  "language_info": {
   "codemirror_mode": {
    "name": "ipython",
    "version": 3
   },
   "file_extension": ".py",
   "mimetype": "text/x-python",
   "name": "python",
   "nbconvert_exporter": "python",
   "pygments_lexer": "ipython3",
   "version": "3.8.5"
  }
 },
 "nbformat": 4,
 "nbformat_minor": 4
}
